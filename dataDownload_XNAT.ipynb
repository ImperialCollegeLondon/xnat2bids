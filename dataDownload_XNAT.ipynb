{
 "cells": [
  {
   "cell_type": "markdown",
   "metadata": {},
   "source": [
    "# Full project downloading data from XNAT\n",
    "\n",
    "#### Maria Yanez Lopez 2018 (maria.yanez-lopez@imperial.ac.uk)\n",
    "#### ~ adapted for full project download Niall Bourke Feb 2019 (n.bourke@imperial.ac.uk)\n",
    "### Documentation: \n",
    "\n",
    "https://github.com/pyxnat/pyxnat/blob/master/pyxnat/core/downloadutils.py\n",
    "\n",
    "https://groups.google.com/forum/#!topic/xnat_discussion/K8h4VP4CBMg\n",
    "\n",
    "https://gist.github.com/mattsouth/db8f2d09acf3c57ba605fa93c4e8d03e\n",
    "\n",
    "https://ubuntuforums.org/showthread.php?t=786879\n",
    "\n",
    "https://wiki.imperial.ac.uk/pages/viewpage.action?spaceKey=HPC&title=Jupyter\n",
    "\n",
    "Version 2.0 ~ Niall Bourke  \n",
    "Updated 28/02/2019  \n",
    " \n",
    "This scripts downloads DICOM data from XNAT according to users specifications.\n"
   ]
  },
  {
   "cell_type": "markdown",
   "metadata": {},
   "source": [
    "### Import python libraries"
   ]
  },
  {
   "cell_type": "code",
   "execution_count": null,
   "metadata": {},
   "outputs": [],
   "source": [
    "import sys, os, getpass                           \n",
    "from pyxnat import Interface"
   ]
  },
  {
   "cell_type": "markdown",
   "metadata": {},
   "source": [
    "### Introduce your XNAT login details (same as college credentials) and project folder"
   ]
  },
  {
   "cell_type": "code",
   "execution_count": null,
   "metadata": {},
   "outputs": [],
   "source": [
    "userName = raw_input('Type XNAT User Name: ')\n",
    "passWord = getpass.getpass('Type XNAT Password: ')\n",
    "projectID = raw_input('Type XNAT Project ID: ')\n",
    "server = 'http://cif-xnat.hh.med.ic.ac.uk'"
   ]
  },
  {
   "cell_type": "code",
   "execution_count": null,
   "metadata": {},
   "outputs": [],
   "source": [
    "print 'INPUT'\n",
    "print 'Server: ', server\n",
    "print 'Username: ', userName\n",
    "print 'Password: ', ''.join(['*']*len(passWord))\n",
    "print 'ProjectID: ', projectID \n"
   ]
  },
  {
   "cell_type": "markdown",
   "metadata": {},
   "source": [
    "### Create PYXNAT interface"
   ]
  },
  {
   "cell_type": "code",
   "execution_count": null,
   "metadata": {},
   "outputs": [],
   "source": [
    "central = Interface(server=server, user=userName, password=passWord)\n",
    "subjects = central.select.project(projectID).subjects().get()\n",
    "allSessions = []\n",
    "number_subjects = 0"
   ]
  },
  {
   "cell_type": "markdown",
   "metadata": {},
   "source": [
    "### Browse through project, collect subjects/sessions/scans and print subject labels"
   ]
  },
  {
   "cell_type": "code",
   "execution_count": null,
   "metadata": {},
   "outputs": [],
   "source": [
    "for i, subject in enumerate(subjects):\n",
    "    label = central.select.project(projectID).subject(subject).label()\n",
    "    print label, ('%i/%i' % (i+1, len(subjects)))\n",
    "    sessions = central.select.project(projectID).subjects(subject).experiments().get()\n",
    "    allSessions.append(sessions)"
   ]
  },
  {
   "cell_type": "markdown",
   "metadata": {},
   "source": [
    "## Modify the output diretory, where the datasets will be saved form XNAT"
   ]
  },
  {
   "cell_type": "code",
   "execution_count": null,
   "metadata": {},
   "outputs": [],
   "source": [
    "dirName = os.path.join('/rds/general/project/c3nl_djs_imaging_data/live/data/raw/', projectID)\n",
    "#print dirName\n",
    "\n",
    "# Create target Directory if don't exist\n",
    "if not os.path.exists(dirName):\n",
    "    os.mkdir(dirName)\n",
    "    print(\"Directory \" , dirName ,  \" Created \")\n",
    "else:    \n",
    "    print(\"Directory \" , dirName ,  \" already exists\")\n",
    "    \n",
    "Results_Dir = dirName # needs to exist or next cell will throw error\n",
    "\n",
    "# Set so path is always the tbi group raw direcotry and will download to a folder with the name of project being downloaded\n"
   ]
  },
  {
   "cell_type": "markdown",
   "metadata": {},
   "source": [
    "### Download datasets\n",
    "This script will look into the project predefined. Check the printed output to look for duplicates and incomplete datasets."
   ]
  },
  {
   "cell_type": "code",
   "execution_count": null,
   "metadata": {},
   "outputs": [],
   "source": [
    "subjectCounter = 0\n",
    "for s, subjectID in enumerate(subjects):\n",
    "    subjectLabel = central.select.project(projectID).subject(subjectID).label()\n",
    "    \n",
    "    for experimentID in allSessions[s]:\n",
    "        try:\n",
    "            scans = central.select.project(projectID).subject(subjectID).experiments(experimentID).scans()\n",
    "            scanIDs = scans.get()\n",
    "            coll = central.select.project(projectID).subject(subjectID).experiments(experimentID)\n",
    "            print '\\n%s %s' % (subjectLabel, experimentID)\n",
    "            number_subjects+=1    \n",
    "            filenames = central.select.project(projectID).subject(subjectID).experiment(experimentID).scans()\n",
    "            filenames.download(Results_Dir, type='ALL', extract=False, removeZip=True)\n",
    "            break\n",
    "        except LookupError:\n",
    "            print(\"There are no scans to download\")\n",
    "        continue #pass\n",
    "                \n",
    "                \n",
    "print \"The total number of scanning sessions downloaded is = \" + str(number_subjects)\n"
   ]
  },
  {
   "cell_type": "markdown",
   "metadata": {},
   "source": [
    "## Sweet now we're rolling! \n",
    "To make life easy all our labs notebooks are going assume a BIDS format.\n",
    "As data curating can be a pain in the derrière, lets run a nice little function to sort that for us ;)\n",
    "\n",
    "## Extracting and indexing data from xnat\n",
    "\n",
    "#### 1: bids_1_preproc -i project\n",
    "    Indexes files downloaded from XNAT with more meaningfull lables such as participant ID and scan session.  \n",
    "    This sets up the initial file structure to run the conversion to BIDS  \n",
    "    \n",
    "#### 2: bids_2_proc -i project  \n",
    "    Loops over all subjects->sessions->modalities->scans and converts DICOMS to NIFTI.   \n",
    "    The labels for each of the scans on the scan card are then converted to match the BIDS format and file structure  \n",
    "    \n",
    "## Dependencies\n",
    "\n",
    "##### A CIF_config.json has been created to match MRI acquisitions and label them in the correct format. \n",
    "This may need to be update if new seqences are being collected. \n",
    "\n",
    "##### Index files\n",
    "I have used XDC to pull metaData about scan labels from xnat. This requires local setup. I have a copy of this function that runs through the TBI list. If the data is not in the imaging directory let me know and I could add this and run through it. \n",
    "\n",
    "The following XDC function can be used to pull project and subject information from xnat\n",
    "I have done this locally and saved an indexing function in c3nl_tools\n"
   ]
  },
  {
   "cell_type": "markdown",
   "metadata": {},
   "source": []
  },
  {
   "cell_type": "markdown",
   "metadata": {},
   "source": [
    "\n"
   ]
  }
 ],
 "metadata": {
  "kernelspec": {
   "display_name": "Python2.7 (test1)",
   "language": "python",
   "name": "python2_test1"
  },
  "language_info": {
   "codemirror_mode": {
    "name": "ipython",
    "version": 2
   },
   "file_extension": ".py",
   "mimetype": "text/x-python",
   "name": "python",
   "nbconvert_exporter": "python",
   "pygments_lexer": "ipython2",
   "version": "2.7.14"
  }
 },
 "nbformat": 4,
 "nbformat_minor": 2
}
