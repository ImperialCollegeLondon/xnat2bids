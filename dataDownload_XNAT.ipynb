{
 "cells": [
  {
   "cell_type": "markdown",
   "metadata": {},
   "source": [
    "# Full project downloading data from XNAT\n",
    "\n",
    "#### Maria Yanez Lopez 2018 (maria.yanez-lopez@imperial.ac.uk)\n",
    "#### ~ adapted for full project download Niall Bourke Feb 2019 (n.bourke@imperial.ac.uk)\n",
    "### Documentation: \n",
    "\n",
    "https://github.com/pyxnat/pyxnat/blob/master/pyxnat/core/downloadutils.py\n",
    "\n",
    "https://groups.google.com/forum/#!topic/xnat_discussion/K8h4VP4CBMg\n",
    "\n",
    "https://gist.github.com/mattsouth/db8f2d09acf3c57ba605fa93c4e8d03e\n",
    "\n",
    "https://ubuntuforums.org/showthread.php?t=786879\n",
    "\n",
    "https://wiki.imperial.ac.uk/pages/viewpage.action?spaceKey=HPC&title=Jupyter\n",
    "\n",
    "Version 2.0 ~ Niall Bourke  \n",
    "Updated 28/02/2019  \n",
    " \n",
    "\n",
    "\n",
    "This scripts downloads DICOM data from XNAT according to users specifications.\n",
    "\n",
    "\n",
    "Pre-requisites:\n",
    "\n",
    "-Need to think carefully which data you need from XNAT\n",
    "-Pyxnat 1.0.1 needs to be installed (with conda)\n",
    "\n",
    "Scripts needed for it to work:\n",
    "\n",
    "- XDC function is required locally to donload csv files for indexing (could be done manually)\n",
    "- The BIDS formating is done with a bash function, saved in dependencies\n"
   ]
  },
  {
   "cell_type": "markdown",
   "metadata": {},
   "source": [
    "### Import python libraries"
   ]
  },
  {
   "cell_type": "code",
   "execution_count": 1,
   "metadata": {},
   "outputs": [],
   "source": [
    "import sys, os, getpass                           \n",
    "from pyxnat import Interface"
   ]
  },
  {
   "cell_type": "markdown",
   "metadata": {},
   "source": [
    "### Introduce your XNAT login details (same as college credentials) and project folder (can use BIGBUCKET)"
   ]
  },
  {
   "cell_type": "code",
   "execution_count": 39,
   "metadata": {},
   "outputs": [],
   "source": [
    "userName = raw_input('Type XNAT User Name: ')\n",
    "passWord = getpass.getpass('Type XNAT Password: ')\n",
    "projectID = raw_input('Type XNAT Project ID: ')\n",
    "server = 'http://cif-xnat.hh.med.ic.ac.uk'"
   ]
  },
  {
   "cell_type": "code",
   "execution_count": 40,
   "metadata": {},
   "outputs": [
    {
     "name": "stdout",
     "output_type": "stream",
     "text": [
      "INPUT\n",
      "Server:  http://cif-xnat.hh.med.ic.ac.uk\n",
      "Username:  nbourke\n",
      "Password:  *********\n",
      "ProjectID:  TauTBI\n"
     ]
    }
   ],
   "source": [
    "print 'INPUT'\n",
    "print 'Server: ', server\n",
    "print 'Username: ', userName\n",
    "print 'Password: ', ''.join(['*']*len(passWord))\n",
    "print 'ProjectID: ', projectID \n"
   ]
  },
  {
   "cell_type": "markdown",
   "metadata": {},
   "source": [
    "### Create PYXNAT interface"
   ]
  },
  {
   "cell_type": "code",
   "execution_count": 41,
   "metadata": {},
   "outputs": [],
   "source": [
    "central = Interface(server=server, user=userName, password=passWord)\n",
    "subjects = central.select.project(projectID).subjects().get()\n",
    "allSessions = []\n",
    "number_subjects = 0"
   ]
  },
  {
   "cell_type": "markdown",
   "metadata": {},
   "source": [
    "### Browse through project, collect subjects/sessions/scans and print subject labels"
   ]
  },
  {
   "cell_type": "code",
   "execution_count": 42,
   "metadata": {},
   "outputs": [
    {
     "name": "stdout",
     "output_type": "stream",
     "text": [
      "CIF1501 1/35\n",
      "CIF1502 2/35\n",
      "CIF1411 3/35\n",
      "CIF1446 4/35\n",
      "CIF1464 5/35\n",
      "CIF0876 6/35\n",
      "CIF0910 7/35\n",
      "CIF0957 8/35\n",
      "CIF0958 9/35\n",
      "CIF0971 10/35\n",
      "CIF1012 11/35\n",
      "CIF1013 12/35\n",
      "CIF1101 13/35\n",
      "CIF1072 14/35\n",
      "CIF1156 15/35\n",
      "CIF1154 16/35\n",
      "CIF1164 17/35\n",
      "AJ_BRAINSTIM 18/35\n",
      "CIF1389 19/35\n",
      "CIF1467 20/35\n",
      "CIF1474 21/35\n",
      "CIF1476 22/35\n",
      "CIF1492 23/35\n",
      "CIF1230 24/35\n",
      "CIF1257 25/35\n",
      "CIF1285 26/35\n",
      "CIF1286 27/35\n",
      "CIF1324 28/35\n",
      "CIF1331 29/35\n",
      "CIF1348 30/35\n",
      "CIF1512 31/35\n",
      "CIF1374 32/35\n",
      "CIF1375 33/35\n",
      "CIF1379 34/35\n",
      "CIF1551 35/35\n"
     ]
    }
   ],
   "source": [
    "for i, subject in enumerate(subjects):\n",
    "    label = central.select.project(projectID).subject(subject).label()\n",
    "    print label, ('%i/%i' % (i+1, len(subjects)))\n",
    "    sessions = central.select.project(projectID).subjects(subject).experiments().get()\n",
    "    allSessions.append(sessions)"
   ]
  },
  {
   "cell_type": "markdown",
   "metadata": {},
   "source": [
    "## Modify the output diretory, where the datasets will be saved form XNAT"
   ]
  },
  {
   "cell_type": "code",
   "execution_count": 43,
   "metadata": {},
   "outputs": [
    {
     "name": "stdout",
     "output_type": "stream",
     "text": [
      "('Directory ', '/rds/general/project/c3nl_djs_imaging_data/live/data/raw/TauTBI', ' Created ')\n"
     ]
    }
   ],
   "source": [
    "dirName = os.path.join('/rds/general/project/c3nl_djs_imaging_data/live/data/raw/', projectID)\n",
    "#print dirName\n",
    "\n",
    "# Create target Directory if don't exist\n",
    "if not os.path.exists(dirName):\n",
    "    os.mkdir(dirName)\n",
    "    print(\"Directory \" , dirName ,  \" Created \")\n",
    "else:    \n",
    "    print(\"Directory \" , dirName ,  \" already exists\")\n",
    "    \n",
    "Results_Dir = dirName # needs to exist or next cell will throw error\n",
    "\n",
    "# Set so path is always the tbi group raw direcotry and will download to a folder with the name of project being downloaded\n"
   ]
  },
  {
   "cell_type": "markdown",
   "metadata": {},
   "source": [
    "### Download datasets\n",
    "This script will look into the project predefined. Check the printed output to look for duplicates and incomplete datasets."
   ]
  },
  {
   "cell_type": "code",
   "execution_count": 44,
   "metadata": {},
   "outputs": [
    {
     "name": "stdout",
     "output_type": "stream",
     "text": [
      "\n",
      "CIF1501 CIF_E03899\n",
      "\n",
      "CIF1502 CIF_E03901\n",
      "\n",
      "CIF1411 CIF_E03525\n",
      "\n",
      "CIF1446 CIF_E03664\n",
      "\n",
      "CIF1464 CIF_E03722\n",
      "\n",
      "CIF0876 CIF_E01818\n",
      "\n",
      "CIF0910 CIF_E01846\n",
      "\n",
      "CIF0957 CIF_E02025\n",
      "\n",
      "CIF0958 CIF_E02033\n",
      "\n",
      "CIF0971 CIF_E02116\n",
      "\n",
      "CIF1012 CIF_E02245\n",
      "\n",
      "CIF1013 CIF_E02246\n",
      "\n",
      "CIF1101 CIF_E02550\n",
      "\n",
      "CIF1072 CIF_E02420\n",
      "\n",
      "CIF1156 CIF_E02699\n",
      "\n",
      "CIF1154 CIF_E02693\n",
      "\n",
      "CIF1164 CIF_E02741\n",
      "\n",
      "AJ_BRAINSTIM CIF_E02858\n",
      "\n",
      "CIF1389 CIF_E03214\n",
      "\n",
      "CIF1467 CIF_E03739\n",
      "\n",
      "CIF1474 CIF_E03760\n",
      "\n",
      "CIF1476 CIF_E03770\n",
      "\n",
      "CIF1492 CIF_E03844\n",
      "\n",
      "CIF1230 CIF_E02973\n",
      "\n",
      "CIF1257 CIF_E03040\n",
      "\n",
      "CIF1285 CIF_E03129\n",
      "\n",
      "CIF1286 CIF_E03133\n",
      "\n",
      "CIF1324 CIF_E03277\n",
      "\n",
      "CIF1331 CIF_E03296\n",
      "\n",
      "CIF1348 CIF_E03401\n",
      "\n",
      "CIF1512 CIF_E03249\n",
      "\n",
      "CIF1374 CIF_E02908\n",
      "\n",
      "CIF1375 CIF_E02922\n",
      "\n",
      "CIF1379 CIF_E03018\n",
      "\n",
      "CIF1551 CIF_E03919\n",
      "The total number of scanning sessions downloaded is = 35\n"
     ]
    }
   ],
   "source": [
    "subjectCounter = 0\n",
    "for s, subjectID in enumerate(subjects):\n",
    "    subjectLabel = central.select.project(projectID).subject(subjectID).label()\n",
    "    \n",
    "    for experimentID in allSessions[s]:\n",
    "        try:\n",
    "            scans = central.select.project(projectID).subject(subjectID).experiments(experimentID).scans()\n",
    "            scanIDs = scans.get()\n",
    "            coll = central.select.project(projectID).subject(subjectID).experiments(experimentID)\n",
    "            print '\\n%s %s' % (subjectLabel, experimentID)\n",
    "            number_subjects+=1    \n",
    "            filenames = central.select.project(projectID).subject(subjectID).experiment(experimentID).scans()\n",
    "            filenames.download(Results_Dir, type='ALL', extract=False, removeZip=True)\n",
    "            break\n",
    "        except LookupError:\n",
    "            print(\"There are no scans to download\")\n",
    "        continue #pass\n",
    "                \n",
    "                \n",
    "print \"The total number of scanning sessions downloaded is = \" + str(number_subjects)\n"
   ]
  },
  {
   "cell_type": "markdown",
   "metadata": {},
   "source": [
    "### Sweet now we're rolling! \n",
    "To make life easy all our labs notebooks are going assume a BIDS format.\n",
    "As data curating can be a pain in the derrière, lets run a nice little function to sort that for us ;)\n",
    "\n",
    "#### A CIF_config.json has been created to match MRI acquisitions and label them in the correct format. \n"
   ]
  },
  {
   "cell_type": "markdown",
   "metadata": {},
   "source": [
    "### The following XDC function can be used to pull project and subject information from xnat\n",
    "I have done this locally and saved an indexing function in c3nl_tools"
   ]
  },
  {
   "cell_type": "markdown",
   "metadata": {},
   "source": [
    "\n"
   ]
  },
  {
   "cell_type": "markdown",
   "metadata": {},
   "source": [
    "## Extracting and indexing data from xnat\n",
    "\n",
    "#### 1: bids_preproc.sh  \n",
    "    Indexes files downloaded from XNAT with more meaningfull lables such as participant ID and scan session.  \n",
    "    This sets up the initial file structure to run the conversion to BIDS  \n",
    "    \n",
    "#### 2: bidsProc2.sh  \n",
    "    Loops over all subjects->sessions->modalities->scans and converts DICOMS to NIFTI.   \n",
    "    The labels for each of the scans on the scan card are then converted to match the BIDS format and file structure  "
   ]
  },
  {
   "cell_type": "code",
   "execution_count": null,
   "metadata": {},
   "outputs": [],
   "source": []
  }
 ],
 "metadata": {
  "kernelspec": {
   "display_name": "Python2.7 (test1)",
   "language": "python",
   "name": "python2_test1"
  },
  "language_info": {
   "codemirror_mode": {
    "name": "ipython",
    "version": 2
   },
   "file_extension": ".py",
   "mimetype": "text/x-python",
   "name": "python",
   "nbconvert_exporter": "python",
   "pygments_lexer": "ipython2",
   "version": "2.7.14"
  }
 },
 "nbformat": 4,
 "nbformat_minor": 2
}
